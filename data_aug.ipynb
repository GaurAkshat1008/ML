{
 "cells": [
  {
   "cell_type": "code",
   "execution_count": 3,
   "metadata": {},
   "outputs": [],
   "source": [
    "# data augmentation template\n",
    "import tensorflow as tf\n",
    "from tensorflow.keras import layers, models, optimizers, datasets, metrics\n",
    "import numpy as np\n",
    "import matplotlib.pyplot as plt\n",
    "from keras.preprocessing import image\n",
    "from keras.preprocessing.image import ImageDataGenerator"
   ]
  },
  {
   "cell_type": "code",
   "execution_count": null,
   "metadata": {},
   "outputs": [],
   "source": [
    "(train_images, train_labels), (test_images, test_labels) = datasets.cifar10.load_data()\n",
    "train_images, test_images = train_images / 255.0, test_images / 255.0\n",
    "class_names = [\"airplane\", \"automobile\", \"bird\", \"cat\", \"deer\", \"dog\", \"frog\", \"horse\", \"ship\", \"truck\"]\n",
    "datagen = ImageDataGenerator(\n",
    "  rotation_range=40,\n",
    "  width_shift_range=0.2,\n",
    "  height_shift_range=0.2,\n",
    "  shear_range=0.2,\n",
    "  zoom_range=0.2,\n",
    "  horizontal_flip=True,\n",
    "  fill_mode='nearest'\n",
    ")\n",
    "# pick an image to transform\n",
    "test_img = train_images[0]\n",
    "img = image.img_to_array(test_img) # convert image into a numpy array\n",
    "img = img.reshape((1,) + img.shape) # reshape image into a batch of size 1\n",
    " \n",
    "i = 0\n",
    "\n",
    "for batch in datagen.flow(img, batch_size=1, save_to_dir='preview', save_prefix='test', save_format='jpeg'):\n",
    "  i += 1\n",
    "  if i > 20: # generate 20 images\n",
    "    break  # otherwise the generator would loop indefinitely"
   ]
  }
 ],
 "metadata": {
  "interpreter": {
   "hash": "16cbfd488c5975e37383eb0f188994446250960114289268028bdee6c9f52fe2"
  },
  "kernelspec": {
   "display_name": "Python 3.9.7 64-bit",
   "language": "python",
   "name": "python3"
  },
  "language_info": {
   "codemirror_mode": {
    "name": "ipython",
    "version": 3
   },
   "file_extension": ".py",
   "mimetype": "text/x-python",
   "name": "python",
   "nbconvert_exporter": "python",
   "pygments_lexer": "ipython3",
   "version": "3.9.7"
  },
  "orig_nbformat": 4
 },
 "nbformat": 4,
 "nbformat_minor": 2
}
