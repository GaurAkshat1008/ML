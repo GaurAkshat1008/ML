{
 "cells": [
  {
   "cell_type": "code",
   "execution_count": 1,
   "metadata": {},
   "outputs": [],
   "source": [
    "import tensorflow as tf\n",
    "import tensorflow_probability as tfp "
   ]
  },
  {
   "cell_type": "code",
   "execution_count": 14,
   "metadata": {},
   "outputs": [],
   "source": [
    "tfd = tfp.distributions # alias\n",
    "initial_distribution = tfd.Categorical(probs=[0.2, 0.8])\n",
    "transition_distribution = tfd.Categorical(probs=[[0.5, 0.5], [0.8, 0.2]])\n",
    "obeservation_ditribution = tfd.Normal(loc=[0., 15.], scale=[5., 10.])"
   ]
  },
  {
   "cell_type": "code",
   "execution_count": 15,
   "metadata": {},
   "outputs": [],
   "source": [
    "model = tfd.HiddenMarkovModel(\n",
    "  initial_distribution = initial_distribution,\n",
    "  transition_distribution = transition_distribution,\n",
    "  observation_distribution = obeservation_ditribution,\n",
    "  num_steps = 7\n",
    "  )"
   ]
  },
  {
   "cell_type": "code",
   "execution_count": 16,
   "metadata": {},
   "outputs": [
    {
     "name": "stdout",
     "output_type": "stream",
     "text": [
      "[11.999999   3.8999999  6.3300004  5.601      5.8197     5.75409\n",
      "  5.7737727]\n"
     ]
    }
   ],
   "source": [
    "mean = model.mean()\n",
    "with tf.compat.v1.Session() as sess:\n",
    "  print(mean.numpy())"
   ]
  }
 ],
 "metadata": {
  "interpreter": {
   "hash": "16cbfd488c5975e37383eb0f188994446250960114289268028bdee6c9f52fe2"
  },
  "kernelspec": {
   "display_name": "Python 3.9.7 64-bit",
   "language": "python",
   "name": "python3"
  },
  "language_info": {
   "codemirror_mode": {
    "name": "ipython",
    "version": 3
   },
   "file_extension": ".py",
   "mimetype": "text/x-python",
   "name": "python",
   "nbconvert_exporter": "python",
   "pygments_lexer": "ipython3",
   "version": "3.9.7"
  },
  "orig_nbformat": 4
 },
 "nbformat": 4,
 "nbformat_minor": 2
}
