{
 "cells": [
  {
   "cell_type": "code",
   "execution_count": 23,
   "metadata": {},
   "outputs": [],
   "source": [
    "from __future__ import print_function, division, absolute_import, unicode_literals\n",
    "\n",
    "import tensorflow as tf\n",
    "\n",
    "import pandas as pd\n"
   ]
  },
  {
   "cell_type": "code",
   "execution_count": 24,
   "metadata": {},
   "outputs": [],
   "source": [
    "CSV_COLUMN_NAMES = ['SepalLength', 'SepalWidth', 'PetalLength', 'PetalWidth', 'Species']\n",
    "SPECIES = ['Setosa', 'Versicolor', 'Virginica']\n"
   ]
  },
  {
   "cell_type": "code",
   "execution_count": 25,
   "metadata": {},
   "outputs": [],
   "source": [
    "train_path = tf.keras.utils.get_file(\"iris_training.csv\", \"https://storage.googleapis.com/download.tensorflow.org/data/iris_training.csv\")\n",
    "test_path = tf.keras.utils.get_file(\"iris_test.csv\", \"https://storage.googleapis.com/download.tensorflow.org/data/iris_test.csv\")\n",
    "\n",
    "train = pd.read_csv(train_path, names=CSV_COLUMN_NAMES, header=0)\n",
    "test = pd.read_csv(test_path, names=CSV_COLUMN_NAMES, header=0)"
   ]
  },
  {
   "cell_type": "code",
   "execution_count": 26,
   "metadata": {},
   "outputs": [
    {
     "data": {
      "text/html": [
       "<div>\n",
       "<style scoped>\n",
       "    .dataframe tbody tr th:only-of-type {\n",
       "        vertical-align: middle;\n",
       "    }\n",
       "\n",
       "    .dataframe tbody tr th {\n",
       "        vertical-align: top;\n",
       "    }\n",
       "\n",
       "    .dataframe thead th {\n",
       "        text-align: right;\n",
       "    }\n",
       "</style>\n",
       "<table border=\"1\" class=\"dataframe\">\n",
       "  <thead>\n",
       "    <tr style=\"text-align: right;\">\n",
       "      <th></th>\n",
       "      <th>SepalLength</th>\n",
       "      <th>SepalWidth</th>\n",
       "      <th>PetalLength</th>\n",
       "      <th>PetalWidth</th>\n",
       "      <th>Species</th>\n",
       "    </tr>\n",
       "  </thead>\n",
       "  <tbody>\n",
       "    <tr>\n",
       "      <th>0</th>\n",
       "      <td>6.4</td>\n",
       "      <td>2.8</td>\n",
       "      <td>5.6</td>\n",
       "      <td>2.2</td>\n",
       "      <td>2</td>\n",
       "    </tr>\n",
       "    <tr>\n",
       "      <th>1</th>\n",
       "      <td>5.0</td>\n",
       "      <td>2.3</td>\n",
       "      <td>3.3</td>\n",
       "      <td>1.0</td>\n",
       "      <td>1</td>\n",
       "    </tr>\n",
       "    <tr>\n",
       "      <th>2</th>\n",
       "      <td>4.9</td>\n",
       "      <td>2.5</td>\n",
       "      <td>4.5</td>\n",
       "      <td>1.7</td>\n",
       "      <td>2</td>\n",
       "    </tr>\n",
       "    <tr>\n",
       "      <th>3</th>\n",
       "      <td>4.9</td>\n",
       "      <td>3.1</td>\n",
       "      <td>1.5</td>\n",
       "      <td>0.1</td>\n",
       "      <td>0</td>\n",
       "    </tr>\n",
       "    <tr>\n",
       "      <th>4</th>\n",
       "      <td>5.7</td>\n",
       "      <td>3.8</td>\n",
       "      <td>1.7</td>\n",
       "      <td>0.3</td>\n",
       "      <td>0</td>\n",
       "    </tr>\n",
       "  </tbody>\n",
       "</table>\n",
       "</div>"
      ],
      "text/plain": [
       "   SepalLength  SepalWidth  PetalLength  PetalWidth  Species\n",
       "0          6.4         2.8          5.6         2.2        2\n",
       "1          5.0         2.3          3.3         1.0        1\n",
       "2          4.9         2.5          4.5         1.7        2\n",
       "3          4.9         3.1          1.5         0.1        0\n",
       "4          5.7         3.8          1.7         0.3        0"
      ]
     },
     "execution_count": 26,
     "metadata": {},
     "output_type": "execute_result"
    }
   ],
   "source": [
    "train.head()"
   ]
  },
  {
   "cell_type": "code",
   "execution_count": 27,
   "metadata": {},
   "outputs": [],
   "source": [
    "y_train = train.pop('Species')\n",
    "y_test = test.pop('Species')"
   ]
  },
  {
   "cell_type": "code",
   "execution_count": 28,
   "metadata": {},
   "outputs": [
    {
     "data": {
      "text/plain": [
       "(120, 4)"
      ]
     },
     "execution_count": 28,
     "metadata": {},
     "output_type": "execute_result"
    }
   ],
   "source": [
    "train.shape"
   ]
  },
  {
   "cell_type": "code",
   "execution_count": 29,
   "metadata": {},
   "outputs": [],
   "source": [
    "def input_fn(features, labels, training=True, batch_size=256):\n",
    "    \"\"\"An input function for training\"\"\"\n",
    "    # Convert the inputs to a Dataset.\n",
    "    dataset = tf.data.Dataset.from_tensor_slices((dict(features), labels))\n",
    "\n",
    "    # Shuffle and repeat if you are in training mode.\n",
    "    if training:\n",
    "        dataset = dataset.shuffle(1000).repeat()\n",
    "\n",
    "    return dataset.batch(batch_size)\n",
    "\n"
   ]
  },
  {
   "cell_type": "code",
   "execution_count": 30,
   "metadata": {},
   "outputs": [
    {
     "name": "stdout",
     "output_type": "stream",
     "text": [
      "[NumericColumn(key='SepalLength', shape=(1,), default_value=None, dtype=tf.float32, normalizer_fn=None), NumericColumn(key='SepalWidth', shape=(1,), default_value=None, dtype=tf.float32, normalizer_fn=None), NumericColumn(key='PetalLength', shape=(1,), default_value=None, dtype=tf.float32, normalizer_fn=None), NumericColumn(key='PetalWidth', shape=(1,), default_value=None, dtype=tf.float32, normalizer_fn=None)]\n"
     ]
    }
   ],
   "source": [
    "feature_columns = []\n",
    "for key in train.keys() :\n",
    "  feature_columns.append(tf.feature_column.numeric_column(key))\n",
    "print(feature_columns)"
   ]
  },
  {
   "cell_type": "code",
   "execution_count": 35,
   "metadata": {},
   "outputs": [
    {
     "name": "stdout",
     "output_type": "stream",
     "text": [
      "INFO:tensorflow:Using default config.\n",
      "WARNING:tensorflow:Using temporary folder as model directory: C:\\Users\\rocka\\AppData\\Local\\Temp\\tmpj2ug0ozs\n",
      "INFO:tensorflow:Using config: {'_model_dir': 'C:\\\\Users\\\\rocka\\\\AppData\\\\Local\\\\Temp\\\\tmpj2ug0ozs', '_tf_random_seed': None, '_save_summary_steps': 100, '_save_checkpoints_steps': None, '_save_checkpoints_secs': 600, '_session_config': allow_soft_placement: true\n",
      "graph_options {\n",
      "  rewrite_options {\n",
      "    meta_optimizer_iterations: ONE\n",
      "  }\n",
      "}\n",
      ", '_keep_checkpoint_max': 5, '_keep_checkpoint_every_n_hours': 10000, '_log_step_count_steps': 100, '_train_distribute': None, '_device_fn': None, '_protocol': None, '_eval_distribute': None, '_experimental_distribute': None, '_experimental_max_worker_delay_secs': None, '_session_creation_timeout_secs': 7200, '_checkpoint_save_graph_def': True, '_service': None, '_cluster_spec': ClusterSpec({}), '_task_type': 'worker', '_task_id': 0, '_global_id_in_cluster': 0, '_master': '', '_evaluation_master': '', '_is_chief': True, '_num_ps_replicas': 0, '_num_worker_replicas': 1}\n"
     ]
    }
   ],
   "source": [
    "classifier = tf.estimator.DNNClassifier(\n",
    "    feature_columns=feature_columns,\n",
    "    hidden_units=[30, 10],\n",
    "    n_classes=3)"
   ]
  },
  {
   "cell_type": "code",
   "execution_count": 37,
   "metadata": {},
   "outputs": [
    {
     "name": "stdout",
     "output_type": "stream",
     "text": [
      "INFO:tensorflow:Calling model_fn.\n",
      "INFO:tensorflow:Done calling model_fn.\n",
      "INFO:tensorflow:Create CheckpointSaverHook.\n",
      "INFO:tensorflow:Graph was finalized.\n",
      "INFO:tensorflow:Restoring parameters from C:\\Users\\rocka\\AppData\\Local\\Temp\\tmpj2ug0ozs\\model.ckpt-5000\n",
      "WARNING:tensorflow:From c:\\Users\\rocka\\AppData\\Local\\Programs\\Python\\Python39\\lib\\site-packages\\tensorflow\\python\\training\\saver.py:1175: get_checkpoint_mtimes (from tensorflow.python.training.checkpoint_management) is deprecated and will be removed in a future version.\n",
      "Instructions for updating:\n",
      "Use standard file utilities to get mtimes.\n",
      "INFO:tensorflow:Running local_init_op.\n",
      "INFO:tensorflow:Done running local_init_op.\n",
      "INFO:tensorflow:Calling checkpoint listeners before saving checkpoint 5000...\n",
      "INFO:tensorflow:Saving checkpoints for 5000 into C:\\Users\\rocka\\AppData\\Local\\Temp\\tmpj2ug0ozs\\model.ckpt.\n",
      "INFO:tensorflow:C:\\Users\\rocka\\AppData\\Local\\Temp\\tmpj2ug0ozs\\model.ckpt-5000.data-00000-of-00001\n",
      "INFO:tensorflow:0\n",
      "INFO:tensorflow:C:\\Users\\rocka\\AppData\\Local\\Temp\\tmpj2ug0ozs\\model.ckpt-5000.index\n",
      "INFO:tensorflow:0\n",
      "INFO:tensorflow:C:\\Users\\rocka\\AppData\\Local\\Temp\\tmpj2ug0ozs\\model.ckpt-5000.meta\n",
      "INFO:tensorflow:100\n",
      "INFO:tensorflow:Calling checkpoint listeners after saving checkpoint 5000...\n",
      "INFO:tensorflow:loss = 0.34257308, step = 5000\n",
      "INFO:tensorflow:global_step/sec: 310.018\n",
      "INFO:tensorflow:loss = 0.34323198, step = 5100 (0.323 sec)\n",
      "INFO:tensorflow:global_step/sec: 362.701\n",
      "INFO:tensorflow:loss = 0.33534914, step = 5200 (0.279 sec)\n",
      "INFO:tensorflow:global_step/sec: 400.192\n",
      "INFO:tensorflow:loss = 0.33083135, step = 5300 (0.250 sec)\n",
      "INFO:tensorflow:global_step/sec: 384.933\n",
      "INFO:tensorflow:loss = 0.33671835, step = 5400 (0.265 sec)\n",
      "INFO:tensorflow:global_step/sec: 342.669\n",
      "INFO:tensorflow:loss = 0.32671764, step = 5500 (0.291 sec)\n",
      "INFO:tensorflow:global_step/sec: 305.781\n",
      "INFO:tensorflow:loss = 0.31901434, step = 5600 (0.323 sec)\n",
      "INFO:tensorflow:global_step/sec: 345.925\n",
      "INFO:tensorflow:loss = 0.31178975, step = 5700 (0.291 sec)\n",
      "INFO:tensorflow:global_step/sec: 386.997\n",
      "INFO:tensorflow:loss = 0.31393087, step = 5800 (0.253 sec)\n",
      "INFO:tensorflow:global_step/sec: 395.501\n",
      "INFO:tensorflow:loss = 0.3035236, step = 5900 (0.254 sec)\n",
      "INFO:tensorflow:global_step/sec: 451.304\n",
      "INFO:tensorflow:loss = 0.30908605, step = 6000 (0.221 sec)\n",
      "INFO:tensorflow:global_step/sec: 270.658\n",
      "INFO:tensorflow:loss = 0.30471742, step = 6100 (0.370 sec)\n",
      "INFO:tensorflow:global_step/sec: 306.789\n",
      "INFO:tensorflow:loss = 0.30232307, step = 6200 (0.325 sec)\n",
      "INFO:tensorflow:global_step/sec: 300.525\n",
      "INFO:tensorflow:loss = 0.2825948, step = 6300 (0.340 sec)\n",
      "INFO:tensorflow:global_step/sec: 428.959\n",
      "INFO:tensorflow:loss = 0.29710138, step = 6400 (0.232 sec)\n",
      "INFO:tensorflow:global_step/sec: 408.771\n",
      "INFO:tensorflow:loss = 0.291902, step = 6500 (0.237 sec)\n",
      "INFO:tensorflow:global_step/sec: 384.996\n",
      "INFO:tensorflow:loss = 0.2832266, step = 6600 (0.264 sec)\n",
      "INFO:tensorflow:global_step/sec: 304.068\n",
      "INFO:tensorflow:loss = 0.28910393, step = 6700 (0.324 sec)\n",
      "INFO:tensorflow:global_step/sec: 250.142\n",
      "INFO:tensorflow:loss = 0.28695104, step = 6800 (0.400 sec)\n",
      "INFO:tensorflow:global_step/sec: 393.196\n",
      "INFO:tensorflow:loss = 0.28225434, step = 6900 (0.254 sec)\n",
      "INFO:tensorflow:global_step/sec: 359.8\n",
      "INFO:tensorflow:loss = 0.2718274, step = 7000 (0.278 sec)\n",
      "INFO:tensorflow:global_step/sec: 347.564\n",
      "INFO:tensorflow:loss = 0.2721076, step = 7100 (0.289 sec)\n",
      "INFO:tensorflow:global_step/sec: 416.357\n",
      "INFO:tensorflow:loss = 0.278241, step = 7200 (0.247 sec)\n",
      "INFO:tensorflow:global_step/sec: 368.422\n",
      "INFO:tensorflow:loss = 0.27518958, step = 7300 (0.265 sec)\n",
      "INFO:tensorflow:global_step/sec: 389.315\n",
      "INFO:tensorflow:loss = 0.26555312, step = 7400 (0.258 sec)\n",
      "INFO:tensorflow:global_step/sec: 321.003\n",
      "INFO:tensorflow:loss = 0.27488786, step = 7500 (0.317 sec)\n",
      "INFO:tensorflow:global_step/sec: 417.066\n",
      "INFO:tensorflow:loss = 0.2648826, step = 7600 (0.240 sec)\n",
      "INFO:tensorflow:global_step/sec: 293.918\n",
      "INFO:tensorflow:loss = 0.26322612, step = 7700 (0.332 sec)\n",
      "INFO:tensorflow:global_step/sec: 292.428\n",
      "INFO:tensorflow:loss = 0.26418674, step = 7800 (0.350 sec)\n",
      "INFO:tensorflow:global_step/sec: 370.641\n",
      "INFO:tensorflow:loss = 0.25069085, step = 7900 (0.262 sec)\n",
      "INFO:tensorflow:global_step/sec: 326.089\n",
      "INFO:tensorflow:loss = 0.254688, step = 8000 (0.307 sec)\n",
      "INFO:tensorflow:global_step/sec: 366.385\n",
      "INFO:tensorflow:loss = 0.25797254, step = 8100 (0.275 sec)\n",
      "INFO:tensorflow:global_step/sec: 414.858\n",
      "INFO:tensorflow:loss = 0.24271089, step = 8200 (0.239 sec)\n",
      "INFO:tensorflow:global_step/sec: 408.059\n",
      "INFO:tensorflow:loss = 0.2459143, step = 8300 (0.245 sec)\n",
      "INFO:tensorflow:global_step/sec: 387.997\n",
      "INFO:tensorflow:loss = 0.2489763, step = 8400 (0.258 sec)\n",
      "INFO:tensorflow:global_step/sec: 355.972\n",
      "INFO:tensorflow:loss = 0.24541913, step = 8500 (0.283 sec)\n",
      "INFO:tensorflow:global_step/sec: 391.313\n",
      "INFO:tensorflow:loss = 0.24442163, step = 8600 (0.261 sec)\n",
      "INFO:tensorflow:global_step/sec: 363.191\n",
      "INFO:tensorflow:loss = 0.24080656, step = 8700 (0.267 sec)\n",
      "INFO:tensorflow:global_step/sec: 285.791\n",
      "INFO:tensorflow:loss = 0.2439357, step = 8800 (0.355 sec)\n",
      "INFO:tensorflow:global_step/sec: 312.236\n",
      "INFO:tensorflow:loss = 0.23716769, step = 8900 (0.315 sec)\n",
      "INFO:tensorflow:global_step/sec: 318.487\n",
      "INFO:tensorflow:loss = 0.24085245, step = 9000 (0.322 sec)\n",
      "INFO:tensorflow:global_step/sec: 330.716\n",
      "INFO:tensorflow:loss = 0.23297383, step = 9100 (0.294 sec)\n",
      "INFO:tensorflow:global_step/sec: 327.516\n",
      "INFO:tensorflow:loss = 0.2313708, step = 9200 (0.305 sec)\n",
      "INFO:tensorflow:global_step/sec: 309.588\n",
      "INFO:tensorflow:loss = 0.21740921, step = 9300 (0.323 sec)\n",
      "INFO:tensorflow:global_step/sec: 447.291\n",
      "INFO:tensorflow:loss = 0.24044037, step = 9400 (0.224 sec)\n",
      "INFO:tensorflow:global_step/sec: 391.251\n",
      "INFO:tensorflow:loss = 0.22780605, step = 9500 (0.256 sec)\n",
      "INFO:tensorflow:global_step/sec: 324.435\n",
      "INFO:tensorflow:loss = 0.21463688, step = 9600 (0.311 sec)\n",
      "INFO:tensorflow:global_step/sec: 366.918\n",
      "INFO:tensorflow:loss = 0.22069308, step = 9700 (0.270 sec)\n",
      "INFO:tensorflow:global_step/sec: 377.863\n",
      "INFO:tensorflow:loss = 0.22034976, step = 9800 (0.273 sec)\n",
      "INFO:tensorflow:global_step/sec: 353.273\n",
      "INFO:tensorflow:loss = 0.20946553, step = 9900 (0.276 sec)\n",
      "INFO:tensorflow:global_step/sec: 446.401\n",
      "INFO:tensorflow:loss = 0.21525596, step = 10000 (0.223 sec)\n",
      "INFO:tensorflow:global_step/sec: 386.401\n",
      "INFO:tensorflow:loss = 0.21428844, step = 10100 (0.261 sec)\n",
      "INFO:tensorflow:global_step/sec: 487.247\n",
      "INFO:tensorflow:loss = 0.21315512, step = 10200 (0.203 sec)\n",
      "INFO:tensorflow:global_step/sec: 348.752\n",
      "INFO:tensorflow:loss = 0.21601, step = 10300 (0.294 sec)\n",
      "INFO:tensorflow:global_step/sec: 427.425\n",
      "INFO:tensorflow:loss = 0.21274087, step = 10400 (0.227 sec)\n",
      "INFO:tensorflow:global_step/sec: 424.915\n",
      "INFO:tensorflow:loss = 0.21287459, step = 10500 (0.235 sec)\n",
      "INFO:tensorflow:global_step/sec: 451.502\n",
      "INFO:tensorflow:loss = 0.2163599, step = 10600 (0.231 sec)\n",
      "INFO:tensorflow:global_step/sec: 353.33\n",
      "INFO:tensorflow:loss = 0.20359088, step = 10700 (0.276 sec)\n",
      "INFO:tensorflow:global_step/sec: 358.443\n",
      "INFO:tensorflow:loss = 0.20859808, step = 10800 (0.276 sec)\n",
      "INFO:tensorflow:global_step/sec: 325.206\n",
      "INFO:tensorflow:loss = 0.19970778, step = 10900 (0.307 sec)\n",
      "INFO:tensorflow:global_step/sec: 287.054\n",
      "INFO:tensorflow:loss = 0.20118947, step = 11000 (0.348 sec)\n",
      "INFO:tensorflow:global_step/sec: 278.63\n",
      "INFO:tensorflow:loss = 0.20412554, step = 11100 (0.359 sec)\n",
      "INFO:tensorflow:global_step/sec: 344.783\n",
      "INFO:tensorflow:loss = 0.19535911, step = 11200 (0.292 sec)\n",
      "INFO:tensorflow:global_step/sec: 343.678\n",
      "INFO:tensorflow:loss = 0.20109293, step = 11300 (0.293 sec)\n",
      "INFO:tensorflow:global_step/sec: 313.702\n",
      "INFO:tensorflow:loss = 0.20611149, step = 11400 (0.322 sec)\n",
      "INFO:tensorflow:global_step/sec: 366.183\n",
      "INFO:tensorflow:loss = 0.20316406, step = 11500 (0.265 sec)\n",
      "INFO:tensorflow:global_step/sec: 443.67\n",
      "INFO:tensorflow:loss = 0.19310877, step = 11600 (0.233 sec)\n",
      "INFO:tensorflow:global_step/sec: 333.222\n",
      "INFO:tensorflow:loss = 0.19697559, step = 11700 (0.301 sec)\n",
      "INFO:tensorflow:global_step/sec: 234.732\n",
      "INFO:tensorflow:loss = 0.18551567, step = 11800 (0.418 sec)\n",
      "INFO:tensorflow:global_step/sec: 333.922\n",
      "INFO:tensorflow:loss = 0.18994468, step = 11900 (0.299 sec)\n",
      "INFO:tensorflow:global_step/sec: 284.37\n",
      "INFO:tensorflow:loss = 0.19134665, step = 12000 (0.352 sec)\n",
      "INFO:tensorflow:global_step/sec: 260.497\n",
      "INFO:tensorflow:loss = 0.18778288, step = 12100 (0.384 sec)\n",
      "INFO:tensorflow:global_step/sec: 302.708\n",
      "INFO:tensorflow:loss = 0.18833734, step = 12200 (0.330 sec)\n",
      "INFO:tensorflow:global_step/sec: 348.829\n",
      "INFO:tensorflow:loss = 0.18330175, step = 12300 (0.287 sec)\n",
      "INFO:tensorflow:global_step/sec: 335.851\n",
      "INFO:tensorflow:loss = 0.18256088, step = 12400 (0.309 sec)\n",
      "INFO:tensorflow:global_step/sec: 288.129\n",
      "INFO:tensorflow:loss = 0.18344732, step = 12500 (0.336 sec)\n",
      "INFO:tensorflow:global_step/sec: 384.295\n",
      "INFO:tensorflow:loss = 0.1828559, step = 12600 (0.268 sec)\n",
      "INFO:tensorflow:global_step/sec: 354.154\n",
      "INFO:tensorflow:loss = 0.18214396, step = 12700 (0.274 sec)\n",
      "INFO:tensorflow:global_step/sec: 404.503\n",
      "INFO:tensorflow:loss = 0.18636745, step = 12800 (0.256 sec)\n",
      "INFO:tensorflow:global_step/sec: 304.079\n",
      "INFO:tensorflow:loss = 0.18790989, step = 12900 (0.328 sec)\n",
      "INFO:tensorflow:global_step/sec: 359.07\n",
      "INFO:tensorflow:loss = 0.17720014, step = 13000 (0.270 sec)\n",
      "INFO:tensorflow:global_step/sec: 434.697\n",
      "INFO:tensorflow:loss = 0.17852049, step = 13100 (0.230 sec)\n",
      "INFO:tensorflow:global_step/sec: 332.638\n",
      "INFO:tensorflow:loss = 0.18575075, step = 13200 (0.301 sec)\n",
      "INFO:tensorflow:global_step/sec: 325.255\n",
      "INFO:tensorflow:loss = 0.1751648, step = 13300 (0.317 sec)\n",
      "INFO:tensorflow:global_step/sec: 323.415\n",
      "INFO:tensorflow:loss = 0.17951949, step = 13400 (0.300 sec)\n",
      "INFO:tensorflow:global_step/sec: 409.083\n",
      "INFO:tensorflow:loss = 0.17769577, step = 13500 (0.244 sec)\n",
      "INFO:tensorflow:global_step/sec: 401.272\n",
      "INFO:tensorflow:loss = 0.17359607, step = 13600 (0.249 sec)\n",
      "INFO:tensorflow:global_step/sec: 427.563\n",
      "INFO:tensorflow:loss = 0.16794473, step = 13700 (0.234 sec)\n",
      "INFO:tensorflow:global_step/sec: 317.384\n",
      "INFO:tensorflow:loss = 0.17183658, step = 13800 (0.315 sec)\n",
      "INFO:tensorflow:global_step/sec: 307.411\n",
      "INFO:tensorflow:loss = 0.170196, step = 13900 (0.326 sec)\n",
      "INFO:tensorflow:global_step/sec: 317.684\n",
      "INFO:tensorflow:loss = 0.17025967, step = 14000 (0.322 sec)\n",
      "INFO:tensorflow:global_step/sec: 272.181\n",
      "INFO:tensorflow:loss = 0.16150802, step = 14100 (0.359 sec)\n",
      "INFO:tensorflow:global_step/sec: 316.651\n",
      "INFO:tensorflow:loss = 0.1699454, step = 14200 (0.320 sec)\n",
      "INFO:tensorflow:global_step/sec: 303.886\n",
      "INFO:tensorflow:loss = 0.16795701, step = 14300 (0.325 sec)\n",
      "INFO:tensorflow:global_step/sec: 360.924\n",
      "INFO:tensorflow:loss = 0.17220093, step = 14400 (0.280 sec)\n",
      "INFO:tensorflow:global_step/sec: 406.752\n",
      "INFO:tensorflow:loss = 0.15739013, step = 14500 (0.243 sec)\n",
      "INFO:tensorflow:global_step/sec: 388.942\n",
      "INFO:tensorflow:loss = 0.16373529, step = 14600 (0.265 sec)\n",
      "INFO:tensorflow:global_step/sec: 250.356\n",
      "INFO:tensorflow:loss = 0.15137915, step = 14700 (0.399 sec)\n",
      "INFO:tensorflow:global_step/sec: 272.621\n",
      "INFO:tensorflow:loss = 0.16262217, step = 14800 (0.360 sec)\n",
      "INFO:tensorflow:global_step/sec: 312.481\n",
      "INFO:tensorflow:loss = 0.15950553, step = 14900 (0.318 sec)\n",
      "INFO:tensorflow:Calling checkpoint listeners before saving checkpoint 15000...\n",
      "INFO:tensorflow:Saving checkpoints for 15000 into C:\\Users\\rocka\\AppData\\Local\\Temp\\tmpj2ug0ozs\\model.ckpt.\n",
      "INFO:tensorflow:C:\\Users\\rocka\\AppData\\Local\\Temp\\tmpj2ug0ozs\\model.ckpt-15000.data-00000-of-00001\n",
      "INFO:tensorflow:0\n",
      "INFO:tensorflow:C:\\Users\\rocka\\AppData\\Local\\Temp\\tmpj2ug0ozs\\model.ckpt-15000.index\n",
      "INFO:tensorflow:0\n",
      "INFO:tensorflow:C:\\Users\\rocka\\AppData\\Local\\Temp\\tmpj2ug0ozs\\model.ckpt-15000.meta\n",
      "INFO:tensorflow:100\n",
      "INFO:tensorflow:Calling checkpoint listeners after saving checkpoint 15000...\n",
      "INFO:tensorflow:Loss for final step: 0.1673263.\n"
     ]
    },
    {
     "data": {
      "text/plain": [
       "<tensorflow_estimator.python.estimator.canned.dnn.DNNClassifierV2 at 0x2adc4b03af0>"
      ]
     },
     "execution_count": 37,
     "metadata": {},
     "output_type": "execute_result"
    }
   ],
   "source": [
    "classifier.train(input_fn=lambda: input_fn(train, y_train), steps=10000)"
   ]
  },
  {
   "cell_type": "code",
   "execution_count": 38,
   "metadata": {},
   "outputs": [
    {
     "name": "stdout",
     "output_type": "stream",
     "text": [
      "INFO:tensorflow:Calling model_fn.\n",
      "INFO:tensorflow:Done calling model_fn.\n",
      "INFO:tensorflow:Starting evaluation at 2022-05-20T00:53:58\n",
      "INFO:tensorflow:Graph was finalized.\n",
      "INFO:tensorflow:Restoring parameters from C:\\Users\\rocka\\AppData\\Local\\Temp\\tmpj2ug0ozs\\model.ckpt-15000\n",
      "INFO:tensorflow:Running local_init_op.\n",
      "INFO:tensorflow:Done running local_init_op.\n",
      "INFO:tensorflow:Inference Time : 1.09004s\n",
      "INFO:tensorflow:Finished evaluation at 2022-05-20-00:53:59\n",
      "INFO:tensorflow:Saving dict for global step 15000: accuracy = 0.96666664, average_loss = 0.17684436, global_step = 15000, loss = 0.17684436\n",
      "INFO:tensorflow:Saving 'checkpoint_path' summary for global step 15000: C:\\Users\\rocka\\AppData\\Local\\Temp\\tmpj2ug0ozs\\model.ckpt-15000\n",
      "\n",
      "Test set accuracy: 0.967\n",
      "\n"
     ]
    }
   ],
   "source": [
    "result = classifier.evaluate(input_fn=lambda: input_fn(test, y_test, training=False))\n",
    "print('\\nTest set accuracy: {accuracy:0.3f}\\n'.format(**result))"
   ]
  },
  {
   "cell_type": "code",
   "execution_count": 44,
   "metadata": {},
   "outputs": [
    {
     "name": "stdout",
     "output_type": "stream",
     "text": [
      "Please type numeric numbers as prompted\n",
      "INFO:tensorflow:Calling model_fn.\n",
      "INFO:tensorflow:Done calling model_fn.\n",
      "INFO:tensorflow:Graph was finalized.\n",
      "INFO:tensorflow:Restoring parameters from C:\\Users\\rocka\\AppData\\Local\\Temp\\tmpj2ug0ozs\\model.ckpt-15000\n",
      "INFO:tensorflow:Running local_init_op.\n",
      "INFO:tensorflow:Done running local_init_op.\n",
      "{'logits': array([-2.6034632 ,  0.99824935,  9.610394  ], dtype=float32), 'probabilities': array([4.9603045e-06, 1.8184948e-04, 9.9981326e-01], dtype=float32), 'class_ids': array([2], dtype=int64), 'classes': array([b'2'], dtype=object), 'all_class_ids': array([0, 1, 2]), 'all_classes': array([b'0', b'1', b'2'], dtype=object)}\n",
      "Prediction is \"Virginica\" (100.0%)\n"
     ]
    }
   ],
   "source": [
    "def pred_input_fn(features, batch_size=256):\n",
    "  return tf.data.Dataset.from_tensor_slices(dict(features)).batch(batch_size)\n",
    "features = ['SepalLength', 'SepalWidth', 'PetalLength', 'PetalWidth']\n",
    "predict = {}\n",
    "print(\"Please type numeric numbers as prompted\")\n",
    "for feature in features:\n",
    "  valid = True\n",
    "  while valid:\n",
    "    val = input(feature + \": \")\n",
    "    if not val.isdigit(): valid = False\n",
    "  predict[feature] = [float(val)]\n",
    "predictions = classifier.predict(input_fn=lambda: pred_input_fn(predict))\n",
    "for pred_dict in predictions:\n",
    "  print(pred_dict)\n",
    "  class_id = pred_dict['class_ids'][0]\n",
    "  probability = pred_dict['probabilities'][class_id]\n",
    "  print('Prediction is \"{}\" ({:.1f}%)'.format(SPECIES[class_id], 100 * probability))"
   ]
  }
 ],
 "metadata": {
  "interpreter": {
   "hash": "16cbfd488c5975e37383eb0f188994446250960114289268028bdee6c9f52fe2"
  },
  "kernelspec": {
   "display_name": "Python 3.9.7 64-bit",
   "language": "python",
   "name": "python3"
  },
  "language_info": {
   "codemirror_mode": {
    "name": "ipython",
    "version": 3
   },
   "file_extension": ".py",
   "mimetype": "text/x-python",
   "name": "python",
   "nbconvert_exporter": "python",
   "pygments_lexer": "ipython3",
   "version": "3.9.7"
  },
  "orig_nbformat": 4
 },
 "nbformat": 4,
 "nbformat_minor": 2
}
