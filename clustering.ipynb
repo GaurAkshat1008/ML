{
 "cells": [
  {
   "cell_type": "code",
   "execution_count": null,
   "metadata": {},
   "outputs": [],
   "source": [
    "# basic algorithm for k-means clustering\n",
    "\n",
    "# Step 1: randomly pick K points to place K controls\n",
    "\n",
    "# Step 2: assign all of the data points to the centroid by distance. The closest centeroid to a point it is assigned to.\n",
    "\n",
    "# Step 3: Average all of the points belonging to each centroid to find the middle of those clusters(center of mass). Place the corrosponding centroids into that position.\n",
    "\n",
    "# Step 4: Reassign every point onvce again to the closest centroid.\n",
    "\n",
    "# Step 5: Repeat steps 3-4 until no point changes which centroid it belongs to."
   ]
  }
 ],
 "metadata": {
  "language_info": {
   "name": "python"
  },
  "orig_nbformat": 4
 },
 "nbformat": 4,
 "nbformat_minor": 2
}
